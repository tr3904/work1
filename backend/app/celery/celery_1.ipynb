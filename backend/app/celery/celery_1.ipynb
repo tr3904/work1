{
 "cells": [
  {
   "cell_type": "code",
   "execution_count": 1,
   "id": "dd2861b2",
   "metadata": {},
   "outputs": [
    {
     "name": "stdout",
     "output_type": "stream",
     "text": [
      "Requirement already satisfied: celery in c:\\autodesk\\python 3.11\\lib\\site-packages (5.4.0)\n",
      "Requirement already satisfied: billiard<5.0,>=4.2.0 in c:\\autodesk\\python 3.11\\lib\\site-packages (from celery) (4.2.1)\n",
      "Requirement already satisfied: kombu<6.0,>=5.3.4 in c:\\autodesk\\python 3.11\\lib\\site-packages (from celery) (5.4.2)\n",
      "Requirement already satisfied: vine<6.0,>=5.1.0 in c:\\autodesk\\python 3.11\\lib\\site-packages (from celery) (5.1.0)\n",
      "Requirement already satisfied: click<9.0,>=8.1.2 in c:\\autodesk\\python 3.11\\lib\\site-packages (from celery) (8.1.3)\n",
      "Requirement already satisfied: click-didyoumean>=0.3.0 in c:\\autodesk\\python 3.11\\lib\\site-packages (from celery) (0.3.1)\n",
      "Requirement already satisfied: click-repl>=0.2.0 in c:\\autodesk\\python 3.11\\lib\\site-packages (from celery) (0.3.0)\n",
      "Requirement already satisfied: click-plugins>=1.1.1 in c:\\autodesk\\python 3.11\\lib\\site-packages (from celery) (1.1.1)\n",
      "Requirement already satisfied: tzdata>=2022.7 in c:\\autodesk\\python 3.11\\lib\\site-packages (from celery) (2024.2)\n",
      "Requirement already satisfied: python-dateutil>=2.8.2 in c:\\autodesk\\python 3.11\\lib\\site-packages (from celery) (2.8.2)\n",
      "Requirement already satisfied: colorama in c:\\autodesk\\python 3.11\\lib\\site-packages (from click<9.0,>=8.1.2->celery) (0.4.6)\n",
      "Requirement already satisfied: prompt-toolkit>=3.0.36 in c:\\autodesk\\python 3.11\\lib\\site-packages (from click-repl>=0.2.0->celery) (3.0.38)\n",
      "Requirement already satisfied: amqp<6.0.0,>=5.1.1 in c:\\autodesk\\python 3.11\\lib\\site-packages (from kombu<6.0,>=5.3.4->celery) (5.2.0)\n",
      "Requirement already satisfied: six>=1.5 in c:\\autodesk\\python 3.11\\lib\\site-packages (from python-dateutil>=2.8.2->celery) (1.16.0)\n",
      "Requirement already satisfied: wcwidth in c:\\autodesk\\python 3.11\\lib\\site-packages (from prompt-toolkit>=3.0.36->click-repl>=0.2.0->celery) (0.2.6)\n",
      "Note: you may need to restart the kernel to use updated packages.\n"
     ]
    },
    {
     "name": "stderr",
     "output_type": "stream",
     "text": [
      "\n",
      "[notice] A new release of pip available: 22.3.1 -> 24.2\n",
      "[notice] To update, run: C:\\Autodesk\\Python 3.11\\python.exe -m pip install --upgrade pip\n"
     ]
    }
   ],
   "source": [
    "pip install celery"
   ]
  },
  {
   "cell_type": "code",
   "execution_count": 2,
   "id": "61f77bff",
   "metadata": {},
   "outputs": [],
   "source": [
    "from celery import Celery"
   ]
  },
  {
   "cell_type": "code",
   "execution_count": 3,
   "id": "c5ce0dda",
   "metadata": {},
   "outputs": [],
   "source": [
    "def create_celery(app_name=__name__):\n",
    "    return Celery(app_name, broker='redis://localhost:6379/0')"
   ]
  },
  {
   "cell_type": "code",
   "execution_count": 4,
   "id": "5229b906",
   "metadata": {},
   "outputs": [],
   "source": [
    "def init_celery(celery, app):\n",
    "    celery.conf.update(app.config)\n",
    "    TaskBase = celery.Task\n",
    "\n",
    "    class ContextTask(TaskBase):\n",
    "        abstract = True\n",
    "\n",
    "        def __call__(self, *args, **kwargs):\n",
    "            with app.app_context():\n",
    "                return TaskBase.__call__(self, *args, **kwargs)\n",
    "\n",
    "    celery.Task = ContextTask"
   ]
  },
  {
   "cell_type": "code",
   "execution_count": 5,
   "id": "8e6c815a",
   "metadata": {},
   "outputs": [
    {
     "name": "stdout",
     "output_type": "stream",
     "text": [
      "Requirement already satisfied: Flask in c:\\autodesk\\python 3.11\\lib\\site-packages (2.2.2)\n",
      "Requirement already satisfied: Celery in c:\\autodesk\\python 3.11\\lib\\site-packages (5.4.0)\n",
      "Requirement already satisfied: Flask-Cors in c:\\autodesk\\python 3.11\\lib\\site-packages (5.0.0)\n",
      "Requirement already satisfied: Werkzeug>=2.2.2 in c:\\autodesk\\python 3.11\\lib\\site-packages (from Flask) (2.2.2)\n",
      "Requirement already satisfied: Jinja2>=3.0 in c:\\autodesk\\python 3.11\\lib\\site-packages (from Flask) (3.1.2)\n",
      "Requirement already satisfied: itsdangerous>=2.0 in c:\\autodesk\\python 3.11\\lib\\site-packages (from Flask) (2.1.2)\n",
      "Requirement already satisfied: click>=8.0 in c:\\autodesk\\python 3.11\\lib\\site-packages (from Flask) (8.1.3)\n",
      "Requirement already satisfied: billiard<5.0,>=4.2.0 in c:\\autodesk\\python 3.11\\lib\\site-packages (from Celery) (4.2.1)\n",
      "Requirement already satisfied: kombu<6.0,>=5.3.4 in c:\\autodesk\\python 3.11\\lib\\site-packages (from Celery) (5.4.2)\n",
      "Requirement already satisfied: vine<6.0,>=5.1.0 in c:\\autodesk\\python 3.11\\lib\\site-packages (from Celery) (5.1.0)\n",
      "Requirement already satisfied: click-didyoumean>=0.3.0 in c:\\autodesk\\python 3.11\\lib\\site-packages (from Celery) (0.3.1)\n",
      "Requirement already satisfied: click-repl>=0.2.0 in c:\\autodesk\\python 3.11\\lib\\site-packages (from Celery) (0.3.0)\n",
      "Requirement already satisfied: click-plugins>=1.1.1 in c:\\autodesk\\python 3.11\\lib\\site-packages (from Celery) (1.1.1)\n",
      "Requirement already satisfied: tzdata>=2022.7 in c:\\autodesk\\python 3.11\\lib\\site-packages (from Celery) (2024.2)\n",
      "Requirement already satisfied: python-dateutil>=2.8.2 in c:\\autodesk\\python 3.11\\lib\\site-packages (from Celery) (2.8.2)\n",
      "Requirement already satisfied: colorama in c:\\autodesk\\python 3.11\\lib\\site-packages (from click>=8.0->Flask) (0.4.6)\n",
      "Requirement already satisfied: prompt-toolkit>=3.0.36 in c:\\autodesk\\python 3.11\\lib\\site-packages (from click-repl>=0.2.0->Celery) (3.0.38)\n",
      "Requirement already satisfied: MarkupSafe>=2.0 in c:\\autodesk\\python 3.11\\lib\\site-packages (from Jinja2>=3.0->Flask) (2.1.2)\n",
      "Requirement already satisfied: amqp<6.0.0,>=5.1.1 in c:\\autodesk\\python 3.11\\lib\\site-packages (from kombu<6.0,>=5.3.4->Celery) (5.2.0)\n",
      "Requirement already satisfied: six>=1.5 in c:\\autodesk\\python 3.11\\lib\\site-packages (from python-dateutil>=2.8.2->Celery) (1.16.0)\n",
      "Requirement already satisfied: wcwidth in c:\\autodesk\\python 3.11\\lib\\site-packages (from prompt-toolkit>=3.0.36->click-repl>=0.2.0->Celery) (0.2.6)\n",
      "Note: you may need to restart the kernel to use updated packages.\n"
     ]
    },
    {
     "name": "stderr",
     "output_type": "stream",
     "text": [
      "\n",
      "[notice] A new release of pip available: 22.3.1 -> 24.2\n",
      "[notice] To update, run: C:\\Autodesk\\Python 3.11\\python.exe -m pip install --upgrade pip\n"
     ]
    }
   ],
   "source": [
    "pip install Flask Celery Flask-Cors"
   ]
  },
  {
   "cell_type": "code",
   "execution_count": null,
   "id": "c52997fb",
   "metadata": {},
   "outputs": [],
   "source": []
  }
 ],
 "metadata": {
  "kernelspec": {
   "display_name": "Python 3 (ipykernel)",
   "language": "python",
   "name": "python3"
  },
  "language_info": {
   "codemirror_mode": {
    "name": "ipython",
    "version": 3
   },
   "file_extension": ".py",
   "mimetype": "text/x-python",
   "name": "python",
   "nbconvert_exporter": "python",
   "pygments_lexer": "ipython3",
   "version": "3.11.1"
  }
 },
 "nbformat": 4,
 "nbformat_minor": 5
}
