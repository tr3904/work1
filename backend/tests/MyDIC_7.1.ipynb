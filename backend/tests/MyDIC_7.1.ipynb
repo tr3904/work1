{
 "cells": [
  {
   "cell_type": "code",
   "execution_count": 1,
   "id": "3a325eff",
   "metadata": {},
   "outputs": [],
   "source": [
    "import boto3\n",
    "from botocore.exceptions import NoCredentialsError"
   ]
  },
  {
   "cell_type": "code",
   "execution_count": 2,
   "id": "d01ec562",
   "metadata": {},
   "outputs": [],
   "source": [
    "def upload_to_s3(file_path, bucket_name, s3_file_name):\n",
    "    s3 = boto3.client('s3')\n",
    "    try:\n",
    "        s3.upload_file(file_path, bucket_name, s3_file_name)\n",
    "        print(f\"File uploaded to S3 bucket '{bucket_name}' successfully.\")\n",
    "    except FileNotFoundError:\n",
    "        print(\"The file was not found.\")\n",
    "    except NoCredentialsError:\n",
    "        print(\"Credentials not available.\")"
   ]
  },
  {
   "cell_type": "code",
   "execution_count": 3,
   "id": "2d8162a3",
   "metadata": {},
   "outputs": [],
   "source": [
    "# Example usage\n",
    "file_path = r'C:\\Users\\ACER\\Downloads\\MyAPI_2.csv'\n",
    "bucket_name = 'My_bucket'\n",
    "s3_file_name = 'MyAPI_2.csv'"
   ]
  },
  {
   "cell_type": "code",
   "execution_count": 4,
   "id": "4e343398",
   "metadata": {},
   "outputs": [
    {
     "name": "stdout",
     "output_type": "stream",
     "text": [
      "Credentials not available.\n"
     ]
    }
   ],
   "source": [
    "upload_to_s3(file_path, bucket_name, s3_file_name)"
   ]
  },
  {
   "cell_type": "code",
   "execution_count": 5,
   "id": "d4ba7e6f",
   "metadata": {},
   "outputs": [],
   "source": [
    "from azure.storage.blob import BlobServiceClient, BlobClient, ContainerClient"
   ]
  },
  {
   "cell_type": "code",
   "execution_count": 6,
   "id": "00a96de9",
   "metadata": {},
   "outputs": [],
   "source": [
    "def upload_to_azure(file_path, container_name, blob_name):\n",
    "    try:\n",
    "        # Replace this with your Azure storage connection string\n",
    "        connect_str = \"Connect_string\"\n",
    "        blob_service_client = BlobServiceClient.from_connection_string(connect_str)\n",
    "        blob_client = blob_service_client.get_blob_client(container=container_name, blob=blob_name)\n",
    "        \n",
    "        with open(file_path, \"rb\") as data:\n",
    "            blob_client.upload_blob(data)\n",
    "            print(f\"File uploaded to Azure Blob Storage container '{container_name}' successfully.\")\n",
    "    except Exception as ex:\n",
    "        print(f\"Error: {ex}\")"
   ]
  },
  {
   "cell_type": "code",
   "execution_count": 7,
   "id": "caf94b59",
   "metadata": {},
   "outputs": [
    {
     "name": "stdout",
     "output_type": "stream",
     "text": [
      "Error: Connection string is either blank or malformed.\n"
     ]
    }
   ],
   "source": [
    "# Example usage\n",
    "file_path = r'C:\\Users\\ACER\\Downloads\\MyAPI_2.csv'\n",
    "container_name = 'My_container'\n",
    "blob_name = 'EBS/EFS/MyAPI_2.csv'\n",
    "upload_to_azure(file_path, container_name, blob_name)"
   ]
  },
  {
   "cell_type": "code",
   "execution_count": 8,
   "id": "e44f1fc6",
   "metadata": {},
   "outputs": [],
   "source": [
    "import psycopg2"
   ]
  },
  {
   "cell_type": "code",
   "execution_count": 9,
   "id": "2c57502b",
   "metadata": {},
   "outputs": [],
   "source": [
    "def connect_to_postgresql(host, dbname, user, port=5432):\n",
    "    try:\n",
    "        conn = psycopg2.connect(\n",
    "            host=host,\n",
    "            database=dbname,\n",
    "            user=user,\n",
    "            port=port\n",
    "        )\n",
    "        print(\"Connected to PostgreSQL database successfully.\")\n",
    "        return conn\n",
    "    except Exception as error:\n",
    "        print(f\"Error connecting to PostgreSQL: {error}\")"
   ]
  },
  {
   "cell_type": "code",
   "execution_count": 10,
   "id": "52a0a369",
   "metadata": {},
   "outputs": [],
   "source": [
    "# Example usage\n",
    "host = 'localhost'\n",
    "dbname = 'api_pw'\n",
    "user = 'root'\n",
    "port = 5432  # Default port for PostgreSQL"
   ]
  },
  {
   "cell_type": "code",
   "execution_count": 11,
   "id": "316bd159",
   "metadata": {},
   "outputs": [
    {
     "name": "stdout",
     "output_type": "stream",
     "text": [
      "Error connecting to PostgreSQL: connection to server at \"localhost\" (::1), port 5432 failed: fe_sendauth: no password supplied\n",
      "\n"
     ]
    }
   ],
   "source": [
    "connection = connect_to_postgresql(host, dbname, user, port)"
   ]
  },
  {
   "cell_type": "code",
   "execution_count": 12,
   "id": "8544b746",
   "metadata": {},
   "outputs": [],
   "source": [
    "# Remember to close the connection when done\n",
    "if connection:\n",
    "    connection.close()"
   ]
  }
 ],
 "metadata": {
  "kernelspec": {
   "display_name": "Python 3 (ipykernel)",
   "language": "python",
   "name": "python3"
  },
  "language_info": {
   "codemirror_mode": {
    "name": "ipython",
    "version": 3
   },
   "file_extension": ".py",
   "mimetype": "text/x-python",
   "name": "python",
   "nbconvert_exporter": "python",
   "pygments_lexer": "ipython3",
   "version": "3.11.1"
  }
 },
 "nbformat": 4,
 "nbformat_minor": 5
}
