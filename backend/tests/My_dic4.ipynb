{
 "cells": [
  {
   "cell_type": "code",
   "execution_count": 1,
   "id": "2e1388ca",
   "metadata": {},
   "outputs": [],
   "source": [
    "# Importing Libraries\n",
    "import pandas as pd\n",
    "import mysql.connector\n",
    "from mysql.connector import Error"
   ]
  },
  {
   "cell_type": "code",
   "execution_count": 2,
   "id": "e49befb9",
   "metadata": {},
   "outputs": [
    {
     "name": "stdout",
     "output_type": "stream",
     "text": [
      "MySQL connection is established successfully\n"
     ]
    }
   ],
   "source": [
    "# Creating MySQL server connectivity for databases\n",
    "def server_connectivity(host_name, user_name, user_password):\n",
    "    connection = None\n",
    "    try:\n",
    "        connection = mysql.connector.connect(\n",
    "            host = host_name,\n",
    "            user = user_name,\n",
    "            password = user_password\n",
    "        )\n",
    "        print(\"MySQL connection is established successfully\")\n",
    "    except Error as err:\n",
    "        print(f\"Error: '{err}'\")\n",
    "    return connection\n",
    "# Put our MySQL passcode\n",
    "pw = \"1234\"\n",
    "# Database name\n",
    "db = \"extract_1\"\n",
    "connection = server_connectivity('localhost', 'root', pw)"
   ]
  },
  {
   "cell_type": "code",
   "execution_count": 3,
   "id": "19e14656",
   "metadata": {},
   "outputs": [
    {
     "name": "stdout",
     "output_type": "stream",
     "text": [
      "Database create successful\n"
     ]
    }
   ],
   "source": [
    "# Creating MySQL_python\n",
    "def create_database(connection, query):\n",
    "    cursor = connection.cursor()\n",
    "    try:\n",
    "        cursor.execute(query)\n",
    "        print(\"Database create successful\")\n",
    "    except Error as err:\n",
    "        print(f\"Error: '{err}'\")\n",
    "create_database_query = \"Create database extract_1\"\n",
    "create_database(connection, create_database_query)"
   ]
  },
  {
   "cell_type": "code",
   "execution_count": 4,
   "id": "e1b464d9",
   "metadata": {},
   "outputs": [],
   "source": [
    "# Connect to database\n",
    "def create_db_connection(host_name, user_name, user_password, db_name):\n",
    "    connection = None\n",
    "    try:\n",
    "        connection = mysql.connector.connect(\n",
    "            host = host_name,\n",
    "            user = user_name,\n",
    "            password = user_password,\n",
    "            database = db_name)\n",
    "        print(\"MySQL connection is established successfully\")\n",
    "    except Error as err:\n",
    "        print(f\"Error: '{err}'\")\n",
    "    return connection"
   ]
  },
  {
   "cell_type": "code",
   "execution_count": 5,
   "id": "21a77246",
   "metadata": {},
   "outputs": [],
   "source": [
    "# Execute sql queries\n",
    "def execute_query(connection, query):\n",
    "    cursor = connection.cursor()\n",
    "    try:\n",
    "        cursor.execute(query)\n",
    "        connection.commit()\n",
    "        print(\"Query was successful\")\n",
    "    except Error as err:\n",
    "        print(f\"Error: '{err}'\")"
   ]
  },
  {
   "cell_type": "code",
   "execution_count": 6,
   "id": "ed2c2242",
   "metadata": {},
   "outputs": [
    {
     "name": "stdout",
     "output_type": "stream",
     "text": [
      "MySQL connection is established successfully\n",
      "Query was successful\n"
     ]
    }
   ],
   "source": [
    "create_orders_table = \"\"\"\n",
    "create table banks (\n",
    "`Digits` int);\n",
    "\"\"\"\n",
    "# connect to the database\n",
    "connection = create_db_connection('localhost', 'root', pw, db)\n",
    "execute_query(connection, create_orders_table)"
   ]
  },
  {
   "cell_type": "code",
   "execution_count": 7,
   "id": "488a7396",
   "metadata": {},
   "outputs": [
    {
     "name": "stdout",
     "output_type": "stream",
     "text": [
      "MySQL connection is established successfully\n",
      "Query was successful\n"
     ]
    }
   ],
   "source": [
    "insert_orders_table = \"\"\"\n",
    "insert into banks values\n",
    "(900000), \n",
    "(950000), \n",
    "(890000), \n",
    "(990000), \n",
    "(1090000), \n",
    "(1190000), \n",
    "(1290000),\n",
    "(1990), \n",
    "(1890), \n",
    "(1790), \n",
    "(1690), \n",
    "(1590), \n",
    "(1490), \n",
    "(1390),\n",
    "(1330), \n",
    "(1340), \n",
    "(1350), \n",
    "(1360), \n",
    "(1370), \n",
    "(1380), \n",
    "(1390);\n",
    "\"\"\"\n",
    "connection = create_db_connection('localhost', 'root', pw, db)\n",
    "execute_query(connection, insert_orders_table)"
   ]
  },
  {
   "cell_type": "code",
   "execution_count": 8,
   "id": "70574598",
   "metadata": {},
   "outputs": [],
   "source": [
    "# Reading Queries\n",
    "def read_query(connection, query):\n",
    "    cursor = connection.cursor()\n",
    "    result = None\n",
    "    try:\n",
    "        cursor.execute(query)\n",
    "        result = cursor.fetchall()\n",
    "        return result\n",
    "    except Error as err:\n",
    "        print(f\"Error: '{err}'\")"
   ]
  },
  {
   "cell_type": "code",
   "execution_count": 9,
   "id": "8af3ed15",
   "metadata": {},
   "outputs": [
    {
     "name": "stdout",
     "output_type": "stream",
     "text": [
      "MySQL connection is established successfully\n",
      "(900000,)\n",
      "(950000,)\n",
      "(890000,)\n",
      "(990000,)\n",
      "(1090000,)\n",
      "(1190000,)\n",
      "(1290000,)\n",
      "(1990,)\n",
      "(1890,)\n",
      "(1790,)\n",
      "(1690,)\n",
      "(1590,)\n",
      "(1490,)\n",
      "(1390,)\n",
      "(1330,)\n",
      "(1340,)\n",
      "(1350,)\n",
      "(1360,)\n",
      "(1370,)\n",
      "(1380,)\n",
      "(1390,)\n"
     ]
    }
   ],
   "source": [
    "# Using the select statement\n",
    "q1 = \"\"\"\n",
    "select * from banks;\n",
    "\"\"\"\n",
    "connection = create_db_connection('localhost', 'root', pw, db)\n",
    "results = read_query(connection, q1)\n",
    "for result in results:\n",
    "        print(result)"
   ]
  }
 ],
 "metadata": {
  "kernelspec": {
   "display_name": "Python 3 (ipykernel)",
   "language": "python",
   "name": "python3"
  },
  "language_info": {
   "codemirror_mode": {
    "name": "ipython",
    "version": 3
   },
   "file_extension": ".py",
   "mimetype": "text/x-python",
   "name": "python",
   "nbconvert_exporter": "python",
   "pygments_lexer": "ipython3",
   "version": "3.11.1"
  }
 },
 "nbformat": 4,
 "nbformat_minor": 5
}
