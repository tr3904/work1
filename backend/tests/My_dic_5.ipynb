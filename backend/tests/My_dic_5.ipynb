{
 "cells": [
  {
   "cell_type": "code",
   "execution_count": 1,
   "id": "978d38d1",
   "metadata": {},
   "outputs": [],
   "source": [
    "import os\n",
    "import glob\n",
    "import pandas as pd\n",
    "from sqlalchemy import create_engine"
   ]
  },
  {
   "cell_type": "code",
   "execution_count": 2,
   "id": "c20abf4f",
   "metadata": {},
   "outputs": [],
   "source": [
    "# Database connection settings\n",
    "db_username = 'root'\n",
    "db_password = '1234'\n",
    "db_host = 'localhost'\n",
    "db_port = '5432'\n",
    "db_name = 'split_data'"
   ]
  },
  {
   "cell_type": "code",
   "execution_count": 3,
   "id": "674e0334",
   "metadata": {},
   "outputs": [],
   "source": [
    "# Create connection to PostgreSQL\n",
    "engine = create_engine(f'postgresql://{db_username}:{db_password}@{db_host}:{db_port}/{db_name}')"
   ]
  },
  {
   "cell_type": "code",
   "execution_count": 4,
   "id": "8a42231f",
   "metadata": {},
   "outputs": [],
   "source": [
    "# Function to validate data (you can customize this further)\n",
    "def validate_data(df):\n",
    "    # Example validation rules:\n",
    "    if df.isnull().values.any():\n",
    "        print(\"Validation failed: Missing data found.\")\n",
    "        return False\n",
    "    # Check if specific columns have the expected data type\n",
    "    if not pd.api.types.is_numeric_dtype(df['some_column']):\n",
    "        print(\"Validation failed: 'some_column' is not numeric.\")\n",
    "        return False\n",
    "    # Add more validation rules as needed\n",
    "    print(\"Validation passed.\")\n",
    "    return True"
   ]
  },
  {
   "cell_type": "code",
   "execution_count": 6,
   "id": "443a248d",
   "metadata": {},
   "outputs": [],
   "source": [
    " # Path to the directory containing Excel files\n",
    "directory_path = '/Users/ACER/Desktop/Bulk_Excel_files'"
   ]
  },
  {
   "cell_type": "code",
   "execution_count": 7,
   "id": "12026e16",
   "metadata": {},
   "outputs": [
    {
     "name": "stdout",
     "output_type": "stream",
     "text": [
      "Directory exists: /Users/ACER/Desktop/Bulk_Excel_files\n"
     ]
    }
   ],
   "source": [
    "# Check if the directory exists\n",
    "if os.path.exists(directory_path):\n",
    "    print(f\"Directory exists: {directory_path}\")\n",
    "else:\n",
    "    print(f\"Directory does not exist: {directory_path}\")\n"
   ]
  },
  {
   "cell_type": "code",
   "execution_count": 8,
   "id": "5b6e47c0",
   "metadata": {},
   "outputs": [
    {
     "name": "stdout",
     "output_type": "stream",
     "text": [
      "Found 0 Excel files.\n"
     ]
    }
   ],
   "source": [
    "# Get all Excel files (.xlsx and .xls) in the directory\n",
    "excel_files = glob.glob(os.path.join(directory_path, \"*.xlsx\")) + glob.glob(os.path.join(directory_path, \"*.xls\"))\n",
    "print(f\"Found {len(excel_files)} Excel files.\")"
   ]
  },
  {
   "cell_type": "code",
   "execution_count": 9,
   "id": "a0d940b4",
   "metadata": {},
   "outputs": [
    {
     "name": "stdout",
     "output_type": "stream",
     "text": [
      "Directory exists: /Users/ACER/Desktop/Bulk_Excel_files\n",
      "Contents of the directory:\n",
      "['Banks (1).csv', 'Banks1.csv']\n"
     ]
    }
   ],
   "source": [
    "if os.path.exists(directory_path):\n",
    "    print(f\"Directory exists: {directory_path}\")\n",
    "    print(\"Contents of the directory:\")\n",
    "    print(os.listdir(directory_path))\n",
    "else:\n",
    "    print(f\"Directory does not exist: {directory_path}\")"
   ]
  },
  {
   "cell_type": "code",
   "execution_count": 11,
   "id": "c409d842",
   "metadata": {},
   "outputs": [],
   "source": [
    "# Load, validate, and insert each Excel file into PostgreSQL\n",
    "for file in excel_files:\n",
    "    try:\n",
    "        df = pd.read_excel(file)\n",
    "        print(f\"Processing {file}...\")\n",
    "\n",
    "        # Validate the data\n",
    "        if validate_data(df):\n",
    "            print(f\"{file} is valid.\")\n",
    "            \n",
    "            # Insert valid data into PostgreSQL\n",
    "            table_name = 'post'  # Change to your actual table name\n",
    "            df.to_sql(table_name, engine, if_exists='append', index=False)\n",
    "            print(f\"{file} successfully inserted into {table_name}.\")\n",
    "        else:\n",
    "            print(f\"{file} failed validation.\")\n",
    "    except Exception as e:\n",
    "        print(f\"Error processing {file}: {e}\")"
   ]
  },
  {
   "cell_type": "code",
   "execution_count": null,
   "id": "8fa296b4",
   "metadata": {},
   "outputs": [],
   "source": []
  }
 ],
 "metadata": {
  "kernelspec": {
   "display_name": "Python 3 (ipykernel)",
   "language": "python",
   "name": "python3"
  },
  "language_info": {
   "codemirror_mode": {
    "name": "ipython",
    "version": 3
   },
   "file_extension": ".py",
   "mimetype": "text/x-python",
   "name": "python",
   "nbconvert_exporter": "python",
   "pygments_lexer": "ipython3",
   "version": "3.11.1"
  }
 },
 "nbformat": 4,
 "nbformat_minor": 5
}
