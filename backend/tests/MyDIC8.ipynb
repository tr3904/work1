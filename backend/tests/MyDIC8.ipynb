{
 "cells": [
  {
   "cell_type": "code",
   "execution_count": 1,
   "id": "58c80255",
   "metadata": {},
   "outputs": [],
   "source": [
    "from flask import Flask, render_template, request, redirect, url_for, flash\n",
    "import os"
   ]
  },
  {
   "cell_type": "code",
   "execution_count": 2,
   "id": "2c4151e7",
   "metadata": {},
   "outputs": [],
   "source": [
    "app = Flask(__name__)\n",
    "app.secret_key = 'your_secret_key'"
   ]
  },
  {
   "cell_type": "code",
   "execution_count": 3,
   "id": "32e79d52",
   "metadata": {},
   "outputs": [],
   "source": [
    "# Route to display loan file upload form (Template 1)\n",
    "@app.route('/upload', methods=['GET', 'POST'])\n",
    "def upload_file():\n",
    "    if request.method == 'POST':\n",
    "        year = request.form['year']\n",
    "        month = request.form['month']\n",
    "        file_type = request.form['fileType']\n",
    "        loan_file = request.files['loanFile']\n",
    "        \n",
    "        # Perform validations\n",
    "        if not (2024 <= int(year) <= 2025):\n",
    "            flash('Year must be between 2024 and 2025.')\n",
    "            return redirect(url_for('upload_file'))\n",
    "        \n",
    "        if file_type not in ['Excel', 'CSV']:\n",
    "            flash('File type must be Excel or CSV.')\n",
    "            return redirect(url_for('upload_file'))\n",
    "\n",
    "        # Save the file (for demonstration, saving locally)\n",
    "        if loan_file.filename != '':\n",
    "            file_path = os.path.join('uploads', loan_file.filename)\n",
    "            loan_file.save(file_path)\n",
    "            flash(f'File {loan_file.filename} uploaded successfully!')\n",
    "        \n",
    "        return redirect(url_for('uploaded_files'))\n",
    "\n",
    "    return render_template('template1.html')"
   ]
  },
  {
   "cell_type": "code",
   "execution_count": 4,
   "id": "690dcd42",
   "metadata": {},
   "outputs": [],
   "source": [
    "# Route to display uploaded files (Template 2)\n",
    "@app.route('/uploaded')\n",
    "def uploaded_files():\n",
    "    # Example of uploaded files, this should come from your database or file system\n",
    "    uploaded_files = [\n",
    "        {'sr_no': 1, 'month': 'July', 'year': '2024-25', 'file_name': 'NRLM_UPLOAD_BAL_JUL_24.xlsx',\n",
    "         'upload_date': '8/7/2024 1:46:04 PM', 'status': 'Processed',\n",
    "         'remark': 'Loan file Uploaded successfully. Total 80438 records uploaded.'}\n",
    "    ]\n",
    "    return render_template('template2.html', files=uploaded_files)"
   ]
  },
  {
   "cell_type": "code",
   "execution_count": 5,
   "id": "26178d9f",
   "metadata": {},
   "outputs": [
    {
     "name": "stdout",
     "output_type": "stream",
     "text": [
      " * Serving Flask app '__main__'\n",
      " * Debug mode: on\n"
     ]
    },
    {
     "name": "stderr",
     "output_type": "stream",
     "text": [
      "WARNING: This is a development server. Do not use it in a production deployment. Use a production WSGI server instead.\n",
      " * Running on http://127.0.0.1:5000\n",
      "Press CTRL+C to quit\n",
      " * Restarting with stat\n"
     ]
    },
    {
     "ename": "SystemExit",
     "evalue": "1",
     "output_type": "error",
     "traceback": [
      "An exception has occurred, use %tb to see the full traceback.\n",
      "\u001b[1;31mSystemExit\u001b[0m\u001b[1;31m:\u001b[0m 1\n"
     ]
    },
    {
     "name": "stderr",
     "output_type": "stream",
     "text": [
      "C:\\Autodesk\\Python 3.11\\Lib\\site-packages\\IPython\\core\\interactiveshell.py:3513: UserWarning: To exit: use 'exit', 'quit', or Ctrl-D.\n",
      "  warn(\"To exit: use 'exit', 'quit', or Ctrl-D.\", stacklevel=1)\n"
     ]
    }
   ],
   "source": [
    "\n",
    "# Route to handle validation errors (Template 3)\n",
    "@app.route('/errors')\n",
    "def show_errors():\n",
    "    # Example error list\n",
    "    error_list = ['File type must be Excel or CSV.', 'Year must be between 2024 and 2025.']\n",
    "    return render_template('template3.html', errors=error_list)\n",
    "\n",
    "if __name__ == '__main__':\n",
    "    app.run(debug=True)"
   ]
  },
  {
   "cell_type": "code",
   "execution_count": null,
   "id": "d0265036",
   "metadata": {},
   "outputs": [],
   "source": []
  }
 ],
 "metadata": {
  "kernelspec": {
   "display_name": "Python 3 (ipykernel)",
   "language": "python",
   "name": "python3"
  },
  "language_info": {
   "codemirror_mode": {
    "name": "ipython",
    "version": 3
   },
   "file_extension": ".py",
   "mimetype": "text/x-python",
   "name": "python",
   "nbconvert_exporter": "python",
   "pygments_lexer": "ipython3",
   "version": "3.11.1"
  }
 },
 "nbformat": 4,
 "nbformat_minor": 5
}
