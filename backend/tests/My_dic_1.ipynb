{
 "cells": [
  {
   "cell_type": "code",
   "execution_count": 1,
   "id": "fec831ae",
   "metadata": {},
   "outputs": [],
   "source": [
    "# Importing Libraries\n",
    "import mysql.connector\n",
    "from mysql.connector import Error\n",
    "import pandas as pd"
   ]
  },
  {
   "cell_type": "code",
   "execution_count": 2,
   "id": "4bb0eb0f",
   "metadata": {},
   "outputs": [
    {
     "name": "stdout",
     "output_type": "stream",
     "text": [
      "MySQL connection is established successfully\n"
     ]
    }
   ],
   "source": [
    "# Creating MySQL server connectivity for databases\n",
    "def server_connectivity(host_name, user_name, user_password):\n",
    "    connection = None\n",
    "    try:\n",
    "        connection = mysql.connector.connect(\n",
    "            host = host_name,\n",
    "            user = user_name,\n",
    "            password = user_password\n",
    "        )\n",
    "        print(\"MySQL connection is established successfully\")\n",
    "    except Error as err:\n",
    "        print(f\"Error: '{err}'\")\n",
    "    return connection\n",
    "# Put our MySQL passcode\n",
    "pw = \"1234\"\n",
    "# Database name\n",
    "db = \"bank_1\"\n",
    "connection = server_connectivity('localhost', 'root', pw)"
   ]
  },
  {
   "cell_type": "code",
   "execution_count": 3,
   "id": "56f1baa5",
   "metadata": {},
   "outputs": [
    {
     "name": "stdout",
     "output_type": "stream",
     "text": [
      "Database create successful\n"
     ]
    }
   ],
   "source": [
    "# Creating MySQL_python\n",
    "def create_database(connection, query):\n",
    "    cursor = connection.cursor()\n",
    "    try:\n",
    "        cursor.execute(query)\n",
    "        print(\"Database create successful\")\n",
    "    except Error as err:\n",
    "        print(f\"Error: '{err}'\")\n",
    "create_database_query = \"Create database bank_1\"\n",
    "create_database(connection, create_database_query)"
   ]
  },
  {
   "cell_type": "code",
   "execution_count": 4,
   "id": "093018c1",
   "metadata": {},
   "outputs": [],
   "source": [
    "# Connect to database\n",
    "def create_db_connection(host_name, user_name, user_password, db_name):\n",
    "    connection = None\n",
    "    try:\n",
    "        connection = mysql.connector.connect(\n",
    "            host = host_name,\n",
    "            user = user_name,\n",
    "            password = user_password,\n",
    "            database = db_name)\n",
    "        print(\"MySQL connection is established successfully\")\n",
    "    except Error as err:\n",
    "        print(f\"Error: '{err}'\")\n",
    "    return connection"
   ]
  },
  {
   "cell_type": "code",
   "execution_count": 5,
   "id": "5a60109b",
   "metadata": {},
   "outputs": [],
   "source": [
    "# Execute sql queries\n",
    "def execute_query(connection, query):\n",
    "    cursor = connection.cursor()\n",
    "    try:\n",
    "        cursor.execute(query)\n",
    "        connection.commit()\n",
    "        print(\"Query was successful\")\n",
    "    except Error as err:\n",
    "        print(f\"Error: '{err}'\")"
   ]
  },
  {
   "cell_type": "code",
   "execution_count": 12,
   "id": "435de7bb",
   "metadata": {},
   "outputs": [
    {
     "name": "stdout",
     "output_type": "stream",
     "text": [
      "MySQL connection is established successfully\n",
      "Query was successful\n"
     ]
    }
   ],
   "source": [
    "create_orders_table = \"\"\"\n",
    "create table banks (\n",
    "`Loan_A/C_No` int primary key,\n",
    "`Transaction_Date` datetime not null,\n",
    "`Particulars` varchar(20) not null,\n",
    "`Type_of_Transaction` varchar(20) not null,\n",
    "`Debit` int not null,\n",
    "`Credit` int not null,\n",
    "`Closing_Balance` int not null,\n",
    "`Branch_Code or IFSC` varchar(20));\n",
    "\"\"\"\n",
    "# connect to the database\n",
    "connection = create_db_connection('localhost', 'root', pw, db)\n",
    "execute_query(connection, create_orders_table)"
   ]
  },
  {
   "cell_type": "code",
   "execution_count": 27,
   "id": "971c7f2e",
   "metadata": {},
   "outputs": [
    {
     "data": {
      "text/html": [
       "<div>\n",
       "<style scoped>\n",
       "    .dataframe tbody tr th:only-of-type {\n",
       "        vertical-align: middle;\n",
       "    }\n",
       "\n",
       "    .dataframe tbody tr th {\n",
       "        vertical-align: top;\n",
       "    }\n",
       "\n",
       "    .dataframe thead th {\n",
       "        text-align: right;\n",
       "    }\n",
       "</style>\n",
       "<table border=\"1\" class=\"dataframe\">\n",
       "  <thead>\n",
       "    <tr style=\"text-align: right;\">\n",
       "      <th></th>\n",
       "      <th>Loan_A/C_No</th>\n",
       "      <th>Transaction_Date</th>\n",
       "      <th>Particulars</th>\n",
       "      <th>Type_of_Transaction</th>\n",
       "      <th>Debit</th>\n",
       "      <th>Credit</th>\n",
       "      <th>Closing_Balance</th>\n",
       "      <th>Branch_Code or IFSC</th>\n",
       "    </tr>\n",
       "  </thead>\n",
       "  <tbody>\n",
       "    <tr>\n",
       "      <th>0</th>\n",
       "      <td>1</td>\n",
       "      <td>2024-04-22 10:15:30</td>\n",
       "      <td>Rinku Singh</td>\n",
       "      <td>BI</td>\n",
       "      <td>350000</td>\n",
       "      <td>450000</td>\n",
       "      <td>900000</td>\n",
       "      <td>Branch_Code</td>\n",
       "    </tr>\n",
       "    <tr>\n",
       "      <th>1</th>\n",
       "      <td>2</td>\n",
       "      <td>2023-05-22 10:15:30</td>\n",
       "      <td>Ishita Mishra</td>\n",
       "      <td>CI</td>\n",
       "      <td>400000</td>\n",
       "      <td>500000</td>\n",
       "      <td>950000</td>\n",
       "      <td>IFSC</td>\n",
       "    </tr>\n",
       "    <tr>\n",
       "      <th>2</th>\n",
       "      <td>3</td>\n",
       "      <td>2022-06-22 10:15:30</td>\n",
       "      <td>Kiriti Sanon</td>\n",
       "      <td>BI</td>\n",
       "      <td>450000</td>\n",
       "      <td>550000</td>\n",
       "      <td>890000</td>\n",
       "      <td>Branch_Code</td>\n",
       "    </tr>\n",
       "    <tr>\n",
       "      <th>3</th>\n",
       "      <td>4</td>\n",
       "      <td>2022-07-22 12:15:30</td>\n",
       "      <td>Preeti Singh</td>\n",
       "      <td>CI</td>\n",
       "      <td>550000</td>\n",
       "      <td>650000</td>\n",
       "      <td>990000</td>\n",
       "      <td>IFSC</td>\n",
       "    </tr>\n",
       "    <tr>\n",
       "      <th>4</th>\n",
       "      <td>5</td>\n",
       "      <td>2021-08-22 10:15:30</td>\n",
       "      <td>Meesha Aggarwal</td>\n",
       "      <td>BI</td>\n",
       "      <td>650000</td>\n",
       "      <td>750000</td>\n",
       "      <td>1090000</td>\n",
       "      <td>Branch_Code</td>\n",
       "    </tr>\n",
       "    <tr>\n",
       "      <th>5</th>\n",
       "      <td>6</td>\n",
       "      <td>2020-09-22 10:15:30</td>\n",
       "      <td>Ishika Sanon</td>\n",
       "      <td>CI</td>\n",
       "      <td>750000</td>\n",
       "      <td>850000</td>\n",
       "      <td>1190000</td>\n",
       "      <td>IFSC</td>\n",
       "    </tr>\n",
       "    <tr>\n",
       "      <th>6</th>\n",
       "      <td>7</td>\n",
       "      <td>2019-10-22 10:15:30</td>\n",
       "      <td>Pinky Singh</td>\n",
       "      <td>BI</td>\n",
       "      <td>850000</td>\n",
       "      <td>950000</td>\n",
       "      <td>1290000</td>\n",
       "      <td>Branch_Code</td>\n",
       "    </tr>\n",
       "  </tbody>\n",
       "</table>\n",
       "</div>"
      ],
      "text/plain": [
       "   Loan_A/C_No     Transaction_Date      Particulars Type_of_Transaction  \\\n",
       "0            1  2024-04-22 10:15:30      Rinku Singh                  BI   \n",
       "1            2  2023-05-22 10:15:30    Ishita Mishra                  CI   \n",
       "2            3  2022-06-22 10:15:30     Kiriti Sanon                  BI   \n",
       "3            4  2022-07-22 12:15:30     Preeti Singh                  CI   \n",
       "4            5  2021-08-22 10:15:30  Meesha Aggarwal                  BI   \n",
       "5            6  2020-09-22 10:15:30     Ishika Sanon                  CI   \n",
       "6            7  2019-10-22 10:15:30      Pinky Singh                  BI   \n",
       "\n",
       "    Debit  Credit  Closing_Balance Branch_Code or IFSC  \n",
       "0  350000  450000           900000         Branch_Code  \n",
       "1  400000  500000           950000                IFSC  \n",
       "2  450000  550000           890000         Branch_Code  \n",
       "3  550000  650000           990000                IFSC  \n",
       "4  650000  750000          1090000         Branch_Code  \n",
       "5  750000  850000          1190000                IFSC  \n",
       "6  850000  950000          1290000         Branch_Code  "
      ]
     },
     "execution_count": 27,
     "metadata": {},
     "output_type": "execute_result"
    }
   ],
   "source": [
    "# Checking Validation\n",
    "df1 = pd.read_csv(\"Banks.csv\")\n",
    "df1"
   ]
  },
  {
   "cell_type": "code",
   "execution_count": 28,
   "id": "5eb6f8f3",
   "metadata": {},
   "outputs": [],
   "source": [
    "def check_validate(row):\n",
    "    if isinstance(row[\"Loan_A/C_No\"], int) or isinstance(row[\"Transaction_Date\"], str) or isinstance(row[\"Particulars\"], str) or isinstance(row[\"Type_of_Transaction\"], str) or isinstance(row[\"Debit\"], int) or isinstance(row[\"Credit\"], int) or isinstance(row[\"Closing_Balance\"], int) or isinstance(row[\"Branch_Code or IFSC\"], str):\n",
    "        print(\"Not Validated\")\n",
    "    else:\n",
    "        print(\"Validated\")"
   ]
  },
  {
   "cell_type": "code",
   "execution_count": 29,
   "id": "4ab70137",
   "metadata": {},
   "outputs": [
    {
     "name": "stdout",
     "output_type": "stream",
     "text": [
      "Validated\n"
     ]
    }
   ],
   "source": [
    "check_validate(df1)"
   ]
  },
  {
   "cell_type": "code",
   "execution_count": 30,
   "id": "1500dcd7",
   "metadata": {},
   "outputs": [],
   "source": [
    "df1.to_csv(\"Data1.csv\")"
   ]
  },
  {
   "cell_type": "code",
   "execution_count": null,
   "id": "5c8acdf6",
   "metadata": {},
   "outputs": [],
   "source": []
  }
 ],
 "metadata": {
  "kernelspec": {
   "display_name": "Python 3 (ipykernel)",
   "language": "python",
   "name": "python3"
  },
  "language_info": {
   "codemirror_mode": {
    "name": "ipython",
    "version": 3
   },
   "file_extension": ".py",
   "mimetype": "text/x-python",
   "name": "python",
   "nbconvert_exporter": "python",
   "pygments_lexer": "ipython3",
   "version": "3.11.1"
  }
 },
 "nbformat": 4,
 "nbformat_minor": 5
}
