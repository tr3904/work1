{
 "cells": [
  {
   "cell_type": "code",
   "execution_count": 1,
   "id": "c4f3459d",
   "metadata": {},
   "outputs": [],
   "source": [
    "# Importing Libraries\n",
    "import mysql.connector\n",
    "from mysql.connector import Error\n",
    "import pandas as pd"
   ]
  },
  {
   "cell_type": "code",
   "execution_count": 2,
   "id": "13f6df8e",
   "metadata": {},
   "outputs": [
    {
     "name": "stdout",
     "output_type": "stream",
     "text": [
      "MySQL connection is established successfully\n"
     ]
    }
   ],
   "source": [
    "# Creating MySQL server connectivity for databases\n",
    "def server_connectivity(host_name, user_name, user_password):\n",
    "    connection = None\n",
    "    try:\n",
    "        connection = mysql.connector.connect(\n",
    "            host = host_name,\n",
    "            user = user_name,\n",
    "            password = user_password\n",
    "        )\n",
    "        print(\"MySQL connection is established successfully\")\n",
    "    except Error as err:\n",
    "        print(f\"Error: '{err}'\")\n",
    "    return connection\n",
    "# Put our MySQL passcode\n",
    "pw = \"1234\"\n",
    "# Database name\n",
    "db = \"bank_2\"\n",
    "connection = server_connectivity('localhost', 'root', pw)"
   ]
  },
  {
   "cell_type": "code",
   "execution_count": 3,
   "id": "59679bd6",
   "metadata": {},
   "outputs": [
    {
     "name": "stdout",
     "output_type": "stream",
     "text": [
      "Error: '1007 (HY000): Can't create database 'bank_2'; database exists'\n"
     ]
    }
   ],
   "source": [
    "# Creating MySQL_python\n",
    "def create_database(connection, query):\n",
    "    cursor = connection.cursor()\n",
    "    try:\n",
    "        cursor.execute(query)\n",
    "        print(\"Database create successful\")\n",
    "    except Error as err:\n",
    "        print(f\"Error: '{err}'\")\n",
    "create_database_query = \"Create database bank_2\"\n",
    "create_database(connection, create_database_query)"
   ]
  },
  {
   "cell_type": "code",
   "execution_count": 4,
   "id": "d866dce6",
   "metadata": {},
   "outputs": [],
   "source": [
    "# Connect to database\n",
    "def create_db_connection(host_name, user_name, user_password, db_name):\n",
    "    connection = None\n",
    "    try:\n",
    "        connection = mysql.connector.connect(\n",
    "            host = host_name,\n",
    "            user = user_name,\n",
    "            password = user_password,\n",
    "            database = db_name)\n",
    "        print(\"MySQL connection is established successfully\")\n",
    "    except Error as err:\n",
    "        print(f\"Error: '{err}'\")\n",
    "    return connection"
   ]
  },
  {
   "cell_type": "code",
   "execution_count": 5,
   "id": "a6bf146d",
   "metadata": {},
   "outputs": [],
   "source": [
    "# Execute sql queries\n",
    "def execute_query(connection, query):\n",
    "    cursor = connection.cursor()\n",
    "    try:\n",
    "        cursor.execute(query)\n",
    "        connection.commit()\n",
    "        print(\"Query was successful\")\n",
    "    except Error as err:\n",
    "        print(f\"Error: '{err}'\")"
   ]
  },
  {
   "cell_type": "code",
   "execution_count": 6,
   "id": "7f463731",
   "metadata": {},
   "outputs": [
    {
     "name": "stdout",
     "output_type": "stream",
     "text": [
      "MySQL connection is established successfully\n",
      "Error: '1050 (42S01): Table 'banks' already exists'\n"
     ]
    }
   ],
   "source": [
    "create_orders_table = \"\"\"\n",
    "create table banks (\n",
    "`SHG Loan A/c No` int primary key,\n",
    "`Date of Closer` date not null,\n",
    "`Name of the SHG` varchar(30) not null,\n",
    "`SHG SB Account No` int not null,\n",
    "`IFSC Code` int not null,\n",
    "`Branch code` int);\n",
    "\"\"\"\n",
    "# connect to the database\n",
    "connection = create_db_connection('localhost', 'root', pw, db)\n",
    "execute_query(connection, create_orders_table)"
   ]
  },
  {
   "cell_type": "code",
   "execution_count": 7,
   "id": "ff579385",
   "metadata": {},
   "outputs": [
    {
     "name": "stdout",
     "output_type": "stream",
     "text": [
      "MySQL connection is established successfully\n",
      "Error: '1062 (23000): Duplicate entry '1' for key 'banks.PRIMARY''\n"
     ]
    }
   ],
   "source": [
    "insert_orders_table = \"\"\"\n",
    "insert into banks values\n",
    "(1, '2022-05-15', 'Amba Foundation', 1077778, 1990, 1330),\n",
    "(2, '2022-06-19', 'Ambe Mandal', 1087778, 1890, 1340),\n",
    "(3, '2022-07-18', 'Baba Jaleswar SHG', 1097778, 1790, 1350),\n",
    "(4, '2022-08-20', 'ASRLM', 1037778, 1690, 1360),\n",
    "(5, '2022-09-22', 'Aastha Welfare', 1027778, 1590, 1370),\n",
    "(6, '2022-10-12', 'Bhai Bhauni', 1017778, 1490, 1380),\n",
    "(7, '2022-12-24', 'Chintan', 1037778, 1390, 1390);\n",
    "\"\"\"\n",
    "connection = create_db_connection('localhost', 'root', pw, db)\n",
    "execute_query(connection, insert_orders_table)"
   ]
  },
  {
   "cell_type": "code",
   "execution_count": 8,
   "id": "a2b63d03",
   "metadata": {},
   "outputs": [],
   "source": [
    "# Reading Queries\n",
    "def read_query(connection, query):\n",
    "    cursor = connection.cursor()\n",
    "    result = None\n",
    "    try:\n",
    "        cursor.execute(query)\n",
    "        result = cursor.fetchall()\n",
    "        return result\n",
    "    except Error as err:\n",
    "        print(f\"Error: '{err}'\")"
   ]
  },
  {
   "cell_type": "code",
   "execution_count": 9,
   "id": "746c8084",
   "metadata": {},
   "outputs": [
    {
     "name": "stdout",
     "output_type": "stream",
     "text": [
      "MySQL connection is established successfully\n",
      "(1, datetime.date(2022, 5, 15), 'Amba Foundation', 1077778, 1990, 1330)\n",
      "(2, datetime.date(2022, 6, 19), 'Ambe Mandal', 1087778, 1890, 1340)\n",
      "(3, datetime.date(2022, 7, 18), 'Baba Jaleswar SHG', 1097778, 1790, 1350)\n",
      "(4, datetime.date(2022, 8, 20), 'ASRLM', 1037778, 1690, 1360)\n",
      "(5, datetime.date(2022, 9, 22), 'Aastha Welfare', 1027778, 1590, 1370)\n",
      "(6, datetime.date(2022, 10, 12), 'Bhai Bhauni', 1017778, 1490, 1380)\n",
      "(7, datetime.date(2022, 12, 24), 'Chintan', 1037778, 1390, 1390)\n"
     ]
    }
   ],
   "source": [
    "# Using the select statement\n",
    "q1 = \"\"\"\n",
    "select * from banks;\n",
    "\"\"\"\n",
    "connection = create_db_connection('localhost', 'root', pw, db)\n",
    "results = read_query(connection, q1)\n",
    "for result in results:\n",
    "        print(result)"
   ]
  },
  {
   "cell_type": "code",
   "execution_count": 10,
   "id": "0cfa14bb",
   "metadata": {},
   "outputs": [],
   "source": [
    "def is_validate(row):\n",
    "    if isinstance(row[\"SHG Loan A/c No\"], int) or isinstance(row[\"Date of Closer\"], str) or isinstance(row[\"Name of the SHG\"], str) or isinstance(row[\"SHG SB Account No\"], int) or isinstance(row[\"IFSC Code\"], int) or isinstance(row[\"Branch code\"], int):\n",
    "        print(\"Non-Validated\")\n",
    "    else:\n",
    "        print(\"Validated\")"
   ]
  },
  {
   "cell_type": "code",
   "execution_count": 12,
   "id": "ae79d3bf",
   "metadata": {},
   "outputs": [
    {
     "data": {
      "text/html": [
       "<div>\n",
       "<style scoped>\n",
       "    .dataframe tbody tr th:only-of-type {\n",
       "        vertical-align: middle;\n",
       "    }\n",
       "\n",
       "    .dataframe tbody tr th {\n",
       "        vertical-align: top;\n",
       "    }\n",
       "\n",
       "    .dataframe thead th {\n",
       "        text-align: right;\n",
       "    }\n",
       "</style>\n",
       "<table border=\"1\" class=\"dataframe\">\n",
       "  <thead>\n",
       "    <tr style=\"text-align: right;\">\n",
       "      <th></th>\n",
       "      <th>SHG Loan A/c No</th>\n",
       "      <th>Date of Closer</th>\n",
       "      <th>Name of the SHG</th>\n",
       "      <th>SHG SB Account No</th>\n",
       "      <th>IFSC Code</th>\n",
       "      <th>Branch code</th>\n",
       "    </tr>\n",
       "  </thead>\n",
       "  <tbody>\n",
       "    <tr>\n",
       "      <th>0</th>\n",
       "      <td>1</td>\n",
       "      <td>2022-05-15</td>\n",
       "      <td>Amba Foundation</td>\n",
       "      <td>1077778</td>\n",
       "      <td>1990</td>\n",
       "      <td>1330</td>\n",
       "    </tr>\n",
       "    <tr>\n",
       "      <th>1</th>\n",
       "      <td>2</td>\n",
       "      <td>2022-06-19</td>\n",
       "      <td>Ambe Mandal</td>\n",
       "      <td>1087778</td>\n",
       "      <td>1890</td>\n",
       "      <td>1340</td>\n",
       "    </tr>\n",
       "    <tr>\n",
       "      <th>2</th>\n",
       "      <td>3</td>\n",
       "      <td>2022-07-18</td>\n",
       "      <td>Baba Jaleswar SHG</td>\n",
       "      <td>1097778</td>\n",
       "      <td>1790</td>\n",
       "      <td>1350</td>\n",
       "    </tr>\n",
       "    <tr>\n",
       "      <th>3</th>\n",
       "      <td>4</td>\n",
       "      <td>2022-08-20</td>\n",
       "      <td>ASRLM</td>\n",
       "      <td>1037778</td>\n",
       "      <td>1690</td>\n",
       "      <td>1360</td>\n",
       "    </tr>\n",
       "    <tr>\n",
       "      <th>4</th>\n",
       "      <td>5</td>\n",
       "      <td>2022-09-22</td>\n",
       "      <td>Aastha Welfare</td>\n",
       "      <td>1027778</td>\n",
       "      <td>1590</td>\n",
       "      <td>1370</td>\n",
       "    </tr>\n",
       "    <tr>\n",
       "      <th>5</th>\n",
       "      <td>6</td>\n",
       "      <td>2022-10-12</td>\n",
       "      <td>Bhai Bhauni</td>\n",
       "      <td>1017778</td>\n",
       "      <td>1490</td>\n",
       "      <td>1380</td>\n",
       "    </tr>\n",
       "    <tr>\n",
       "      <th>6</th>\n",
       "      <td>7</td>\n",
       "      <td>2022-12-24</td>\n",
       "      <td>Chintan</td>\n",
       "      <td>1037778</td>\n",
       "      <td>1390</td>\n",
       "      <td>1390</td>\n",
       "    </tr>\n",
       "  </tbody>\n",
       "</table>\n",
       "</div>"
      ],
      "text/plain": [
       "   SHG Loan A/c No Date of Closer    Name of the SHG  SHG SB Account No  \\\n",
       "0                1     2022-05-15    Amba Foundation            1077778   \n",
       "1                2     2022-06-19        Ambe Mandal            1087778   \n",
       "2                3     2022-07-18  Baba Jaleswar SHG            1097778   \n",
       "3                4     2022-08-20              ASRLM            1037778   \n",
       "4                5     2022-09-22     Aastha Welfare            1027778   \n",
       "5                6     2022-10-12        Bhai Bhauni            1017778   \n",
       "6                7     2022-12-24            Chintan            1037778   \n",
       "\n",
       "   IFSC Code  Branch code  \n",
       "0       1990         1330  \n",
       "1       1890         1340  \n",
       "2       1790         1350  \n",
       "3       1690         1360  \n",
       "4       1590         1370  \n",
       "5       1490         1380  \n",
       "6       1390         1390  "
      ]
     },
     "execution_count": 12,
     "metadata": {},
     "output_type": "execute_result"
    }
   ],
   "source": [
    "df5 = pd.read_csv(\"Banks1.csv\")\n",
    "df5"
   ]
  },
  {
   "cell_type": "code",
   "execution_count": 13,
   "id": "844e6634",
   "metadata": {},
   "outputs": [
    {
     "name": "stdout",
     "output_type": "stream",
     "text": [
      "Validated\n"
     ]
    }
   ],
   "source": [
    "is_validate(df5)"
   ]
  },
  {
   "cell_type": "code",
   "execution_count": null,
   "id": "81c78b4f",
   "metadata": {},
   "outputs": [],
   "source": []
  }
 ],
 "metadata": {
  "kernelspec": {
   "display_name": "Python 3 (ipykernel)",
   "language": "python",
   "name": "python3"
  },
  "language_info": {
   "codemirror_mode": {
    "name": "ipython",
    "version": 3
   },
   "file_extension": ".py",
   "mimetype": "text/x-python",
   "name": "python",
   "nbconvert_exporter": "python",
   "pygments_lexer": "ipython3",
   "version": "3.11.1"
  }
 },
 "nbformat": 4,
 "nbformat_minor": 5
}
